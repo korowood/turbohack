{
 "cells": [
  {
   "cell_type": "markdown",
   "source": [
    "ПОКА НИЪУКЯ НЕ ПОНЯТНО\n",
    "\n",
    "TODO: ПОДУМАТЬ ЧЗХ"
   ],
   "metadata": {
    "collapsed": false,
    "pycharm": {
     "name": "#%% md\n"
    }
   }
  },
  {
   "cell_type": "code",
   "execution_count": null,
   "outputs": [],
   "source": [],
   "metadata": {
    "collapsed": false,
    "pycharm": {
     "name": "#%%\n"
    }
   }
  },
  {
   "cell_type": "code",
   "execution_count": null,
   "outputs": [],
   "source": [],
   "metadata": {
    "collapsed": false,
    "pycharm": {
     "name": "#%%\n"
    }
   }
  },
  {
   "cell_type": "code",
   "execution_count": null,
   "outputs": [],
   "source": [],
   "metadata": {
    "collapsed": false,
    "pycharm": {
     "name": "#%%\n"
    }
   }
  },
  {
   "cell_type": "code",
   "execution_count": 1,
   "metadata": {
    "collapsed": true
   },
   "outputs": [],
   "source": [
    "import pandas as pd\n",
    "import os\n",
    "import seaborn as sns\n",
    "import matplotlib.pyplot as plt"
   ]
  },
  {
   "cell_type": "code",
   "execution_count": 2,
   "outputs": [
    {
     "data": {
      "text/plain": "['.DS_Store',\n 'eda_task2.ipynb',\n 'README.md',\n 'Задача 2. Датасет 1. Тренировочный.csv',\n 'Задача 2. Датасет 2. Тренировочный.csv']"
     },
     "execution_count": 2,
     "metadata": {},
     "output_type": "execute_result"
    }
   ],
   "source": [
    "os.listdir(\"../task_2\")"
   ],
   "metadata": {
    "collapsed": false,
    "pycharm": {
     "name": "#%%\n"
    }
   }
  },
  {
   "cell_type": "code",
   "execution_count": 9,
   "outputs": [],
   "source": [
    "data_1 = pd.read_csv(\"Задача 2. Датасет 1. Тренировочный.csv\", encoding=\"cp1251\", sep=';')\n",
    "data_2 = pd.read_csv(\"Задача 2. Датасет 2. Тренировочный.csv\", encoding=\"cp1251\", sep=';')"
   ],
   "metadata": {
    "collapsed": false,
    "pycharm": {
     "name": "#%%\n"
    }
   }
  },
  {
   "cell_type": "code",
   "execution_count": 10,
   "outputs": [
    {
     "data": {
      "text/plain": "                Параметр  х001  х002  х003  х004  х005  х006  х007  х008  \\\n120970   06.01.2022 0:09  2.15  1.71 -0.08 -0.53  2.60  1.23  0.87  0.95   \n2980     16.10.2021 1:39  1.14  1.16 -0.11 -0.56  1.60  0.52  0.09  2.03   \n35794   07.11.2021 20:33  2.30  2.31 -0.09 -0.51  2.83  1.34  0.96  0.81   \n147743  24.01.2022 14:22  2.05  1.44 -0.07 -0.54  2.41  1.20  0.90  0.88   \n233983  25.03.2022 11:42  2.01  2.60 -0.05 -0.53  2.89  1.47  0.99  0.93   \n33339    06.11.2021 3:38  1.67  2.69 -0.09 -0.53  2.53  0.99  0.93  1.21   \n148277  24.01.2022 23:16  2.05  1.71 -0.07 -0.53  2.78  1.22  0.92  0.88   \n22596   29.10.2021 16:35  2.04  2.36 -0.09 -0.52  2.70  1.35  0.97  0.90   \n43067   12.11.2021 21:46  1.98  2.17 -0.09 -0.52  2.74  1.20  0.95  0.97   \n18155   26.10.2021 14:34  0.08  0.00 -0.94 -0.16  0.00  0.00  0.09  0.12   \n\n        х009  ...    х200    х201     х202    х203    х204    х205    х206  \\\n120970  0.05  ...  14.014  13.477  165.806  33.089  63.832  41.105  64.956   \n2980    0.06  ...  13.477  13.037  159.741  32.063  61.877  39.076  59.824   \n35794   0.08  ...  10.278   9.814  166.816  33.089  62.830  41.105  64.956   \n147743  0.05  ...  16.333  15.918  165.806  34.091  63.832  42.131  65.005   \n233983  0.07  ...  10.645  10.156  165.806  34.946  62.830  42.131  64.932   \n33339   0.08  ...  11.377  10.791  164.795  33.089  62.830  41.105  64.956   \n148277  0.08  ...  12.793  12.256  165.806  33.089  62.830  41.105  65.005   \n22596   0.05  ...  15.771  15.308  165.806  34.091  63.832  41.105  64.956   \n43067   0.08  ...  12.964  12.500  166.816  33.944  62.830  41.105  64.956   \n18155   0.38  ...  11.377  10.913  128.979  28.983  40.445  31.989  41.471   \n\n           х207  Unnamed: 208  РЕЖИМ  \n120970  151.523           NaN    1.0  \n2980    137.549           NaN    5.0  \n35794   152.534           NaN    1.0  \n147743  152.490           NaN    NaN  \n233983  152.402           NaN    NaN  \n33339   149.502           NaN   26.0  \n148277  152.490           NaN    NaN  \n22596   152.622           NaN    1.0  \n43067   152.534           NaN    1.0  \n18155    48.516           NaN   17.0  \n\n[10 rows x 210 columns]",
      "text/html": "<div>\n<style scoped>\n    .dataframe tbody tr th:only-of-type {\n        vertical-align: middle;\n    }\n\n    .dataframe tbody tr th {\n        vertical-align: top;\n    }\n\n    .dataframe thead th {\n        text-align: right;\n    }\n</style>\n<table border=\"1\" class=\"dataframe\">\n  <thead>\n    <tr style=\"text-align: right;\">\n      <th></th>\n      <th>Параметр</th>\n      <th>х001</th>\n      <th>х002</th>\n      <th>х003</th>\n      <th>х004</th>\n      <th>х005</th>\n      <th>х006</th>\n      <th>х007</th>\n      <th>х008</th>\n      <th>х009</th>\n      <th>...</th>\n      <th>х200</th>\n      <th>х201</th>\n      <th>х202</th>\n      <th>х203</th>\n      <th>х204</th>\n      <th>х205</th>\n      <th>х206</th>\n      <th>х207</th>\n      <th>Unnamed: 208</th>\n      <th>РЕЖИМ</th>\n    </tr>\n  </thead>\n  <tbody>\n    <tr>\n      <th>120970</th>\n      <td>06.01.2022 0:09</td>\n      <td>2.15</td>\n      <td>1.71</td>\n      <td>-0.08</td>\n      <td>-0.53</td>\n      <td>2.60</td>\n      <td>1.23</td>\n      <td>0.87</td>\n      <td>0.95</td>\n      <td>0.05</td>\n      <td>...</td>\n      <td>14.014</td>\n      <td>13.477</td>\n      <td>165.806</td>\n      <td>33.089</td>\n      <td>63.832</td>\n      <td>41.105</td>\n      <td>64.956</td>\n      <td>151.523</td>\n      <td>NaN</td>\n      <td>1.0</td>\n    </tr>\n    <tr>\n      <th>2980</th>\n      <td>16.10.2021 1:39</td>\n      <td>1.14</td>\n      <td>1.16</td>\n      <td>-0.11</td>\n      <td>-0.56</td>\n      <td>1.60</td>\n      <td>0.52</td>\n      <td>0.09</td>\n      <td>2.03</td>\n      <td>0.06</td>\n      <td>...</td>\n      <td>13.477</td>\n      <td>13.037</td>\n      <td>159.741</td>\n      <td>32.063</td>\n      <td>61.877</td>\n      <td>39.076</td>\n      <td>59.824</td>\n      <td>137.549</td>\n      <td>NaN</td>\n      <td>5.0</td>\n    </tr>\n    <tr>\n      <th>35794</th>\n      <td>07.11.2021 20:33</td>\n      <td>2.30</td>\n      <td>2.31</td>\n      <td>-0.09</td>\n      <td>-0.51</td>\n      <td>2.83</td>\n      <td>1.34</td>\n      <td>0.96</td>\n      <td>0.81</td>\n      <td>0.08</td>\n      <td>...</td>\n      <td>10.278</td>\n      <td>9.814</td>\n      <td>166.816</td>\n      <td>33.089</td>\n      <td>62.830</td>\n      <td>41.105</td>\n      <td>64.956</td>\n      <td>152.534</td>\n      <td>NaN</td>\n      <td>1.0</td>\n    </tr>\n    <tr>\n      <th>147743</th>\n      <td>24.01.2022 14:22</td>\n      <td>2.05</td>\n      <td>1.44</td>\n      <td>-0.07</td>\n      <td>-0.54</td>\n      <td>2.41</td>\n      <td>1.20</td>\n      <td>0.90</td>\n      <td>0.88</td>\n      <td>0.05</td>\n      <td>...</td>\n      <td>16.333</td>\n      <td>15.918</td>\n      <td>165.806</td>\n      <td>34.091</td>\n      <td>63.832</td>\n      <td>42.131</td>\n      <td>65.005</td>\n      <td>152.490</td>\n      <td>NaN</td>\n      <td>NaN</td>\n    </tr>\n    <tr>\n      <th>233983</th>\n      <td>25.03.2022 11:42</td>\n      <td>2.01</td>\n      <td>2.60</td>\n      <td>-0.05</td>\n      <td>-0.53</td>\n      <td>2.89</td>\n      <td>1.47</td>\n      <td>0.99</td>\n      <td>0.93</td>\n      <td>0.07</td>\n      <td>...</td>\n      <td>10.645</td>\n      <td>10.156</td>\n      <td>165.806</td>\n      <td>34.946</td>\n      <td>62.830</td>\n      <td>42.131</td>\n      <td>64.932</td>\n      <td>152.402</td>\n      <td>NaN</td>\n      <td>NaN</td>\n    </tr>\n    <tr>\n      <th>33339</th>\n      <td>06.11.2021 3:38</td>\n      <td>1.67</td>\n      <td>2.69</td>\n      <td>-0.09</td>\n      <td>-0.53</td>\n      <td>2.53</td>\n      <td>0.99</td>\n      <td>0.93</td>\n      <td>1.21</td>\n      <td>0.08</td>\n      <td>...</td>\n      <td>11.377</td>\n      <td>10.791</td>\n      <td>164.795</td>\n      <td>33.089</td>\n      <td>62.830</td>\n      <td>41.105</td>\n      <td>64.956</td>\n      <td>149.502</td>\n      <td>NaN</td>\n      <td>26.0</td>\n    </tr>\n    <tr>\n      <th>148277</th>\n      <td>24.01.2022 23:16</td>\n      <td>2.05</td>\n      <td>1.71</td>\n      <td>-0.07</td>\n      <td>-0.53</td>\n      <td>2.78</td>\n      <td>1.22</td>\n      <td>0.92</td>\n      <td>0.88</td>\n      <td>0.08</td>\n      <td>...</td>\n      <td>12.793</td>\n      <td>12.256</td>\n      <td>165.806</td>\n      <td>33.089</td>\n      <td>62.830</td>\n      <td>41.105</td>\n      <td>65.005</td>\n      <td>152.490</td>\n      <td>NaN</td>\n      <td>NaN</td>\n    </tr>\n    <tr>\n      <th>22596</th>\n      <td>29.10.2021 16:35</td>\n      <td>2.04</td>\n      <td>2.36</td>\n      <td>-0.09</td>\n      <td>-0.52</td>\n      <td>2.70</td>\n      <td>1.35</td>\n      <td>0.97</td>\n      <td>0.90</td>\n      <td>0.05</td>\n      <td>...</td>\n      <td>15.771</td>\n      <td>15.308</td>\n      <td>165.806</td>\n      <td>34.091</td>\n      <td>63.832</td>\n      <td>41.105</td>\n      <td>64.956</td>\n      <td>152.622</td>\n      <td>NaN</td>\n      <td>1.0</td>\n    </tr>\n    <tr>\n      <th>43067</th>\n      <td>12.11.2021 21:46</td>\n      <td>1.98</td>\n      <td>2.17</td>\n      <td>-0.09</td>\n      <td>-0.52</td>\n      <td>2.74</td>\n      <td>1.20</td>\n      <td>0.95</td>\n      <td>0.97</td>\n      <td>0.08</td>\n      <td>...</td>\n      <td>12.964</td>\n      <td>12.500</td>\n      <td>166.816</td>\n      <td>33.944</td>\n      <td>62.830</td>\n      <td>41.105</td>\n      <td>64.956</td>\n      <td>152.534</td>\n      <td>NaN</td>\n      <td>1.0</td>\n    </tr>\n    <tr>\n      <th>18155</th>\n      <td>26.10.2021 14:34</td>\n      <td>0.08</td>\n      <td>0.00</td>\n      <td>-0.94</td>\n      <td>-0.16</td>\n      <td>0.00</td>\n      <td>0.00</td>\n      <td>0.09</td>\n      <td>0.12</td>\n      <td>0.38</td>\n      <td>...</td>\n      <td>11.377</td>\n      <td>10.913</td>\n      <td>128.979</td>\n      <td>28.983</td>\n      <td>40.445</td>\n      <td>31.989</td>\n      <td>41.471</td>\n      <td>48.516</td>\n      <td>NaN</td>\n      <td>17.0</td>\n    </tr>\n  </tbody>\n</table>\n<p>10 rows × 210 columns</p>\n</div>"
     },
     "execution_count": 10,
     "metadata": {},
     "output_type": "execute_result"
    }
   ],
   "source": [
    "data_1.sample(10)"
   ],
   "metadata": {
    "collapsed": false,
    "pycharm": {
     "name": "#%%\n"
    }
   }
  },
  {
   "cell_type": "code",
   "execution_count": 18,
   "outputs": [
    {
     "data": {
      "text/plain": "               Параметр      х001      х002      х003      х004      х005  \\\n0                   NaN       NaN       NaN       NaN       NaN       NaN   \n1       01.07.2022 0:00  2.005208  0.203984 -0.000182  0.164062 -0.001823   \n2       01.07.2022 0:01  2.005208  0.202708  0.000000  0.181380 -0.008203   \n3       01.07.2022 0:02  2.005208  0.196693  0.000000  0.180286 -0.002734   \n4       01.07.2022 0:03  2.187500  0.200703 -0.000182  0.164062  0.005833   \n...                 ...       ...       ...       ...       ...       ...   \n55437  08.08.2022 11:56  1.093750  0.206719 -0.000182  0.259037 -0.008385   \n55438  08.08.2022 11:57  1.093750  0.207266 -0.000547  0.251563 -0.008385   \n55439  08.08.2022 11:58  1.093750  0.205260  0.000000  0.251380 -0.008385   \n55440  08.08.2022 11:59  1.093750  0.206719 -0.000182  0.246823  0.006745   \n55441  08.08.2022 12:00  1.093750  0.206719 -0.000182  0.246823  0.006745   \n\n           х006      х007      х008      х009  ...        х330      х331  \\\n0           NaN       NaN       NaN       NaN  ...         NaN       NaN   \n1      0.751591  2.517361  38.63533  3007.434  ...  252.087900  2.343750   \n2      0.746528  2.512153  38.64738  3006.460  ...  252.778400  2.365451   \n3      0.762442  2.510417  38.59549  3006.403  ...  253.636400  2.329282   \n4      0.757378  2.527778  38.66441  3006.401  ...  254.768700  2.336516   \n...         ...       ...       ...       ...  ...         ...       ...   \n55437  0.756655  5.328125  38.71061     0.000  ...    2.327345  0.810185   \n55438  0.757378  5.322917  38.65241     0.000  ...    2.327345  0.846354   \n55439  0.756655  5.331597  38.65683     0.000  ...    2.327345  0.853588   \n55440  0.758825  5.302083  38.60737     0.000  ...    2.327345  0.795718   \n55441  0.758825  5.302083  38.60737     0.000  ...    2.327345  0.795718   \n\n            х332       х333      х334      х335       х336      х337  \\\n0            NaN        NaN       NaN       NaN        NaN       NaN   \n1      72.460940  38.975690 -118.5185  0.347222  98.524310  98.57639   \n2      72.468170  39.351850 -118.5185  0.347222  98.524310  98.57639   \n3      72.446470  41.912620 -118.5185  0.347222  98.524310  98.57639   \n4      72.446470  41.905380 -118.5185  0.347222  98.524310  98.57639   \n...          ...        ...       ...       ...        ...       ...   \n55437  -0.672743  -0.585938 -118.5185 -0.108507  -1.779514  95.00000   \n55438  -0.672743  -0.593171 -118.5185 -0.094039  -1.779514  95.00000   \n55439  -0.687211  -0.585938 -118.5185 -0.108507  -1.772280  95.00000   \n55440  -0.672743  -0.585938 -118.5185 -0.108507  -1.779514  95.00000   \n55441  -0.672743  -0.585938 -118.5185 -0.108507  -1.779514  95.00000   \n\n       Unnamed: 338  РЕЖИМ  \n0               NaN    NaN  \n1               NaN    1.0  \n2               NaN    1.0  \n3               NaN    1.0  \n4               NaN    1.0  \n...             ...    ...  \n55437           NaN   12.0  \n55438           NaN   12.0  \n55439           NaN   12.0  \n55440           NaN   12.0  \n55441           NaN   12.0  \n\n[55442 rows x 340 columns]",
      "text/html": "<div>\n<style scoped>\n    .dataframe tbody tr th:only-of-type {\n        vertical-align: middle;\n    }\n\n    .dataframe tbody tr th {\n        vertical-align: top;\n    }\n\n    .dataframe thead th {\n        text-align: right;\n    }\n</style>\n<table border=\"1\" class=\"dataframe\">\n  <thead>\n    <tr style=\"text-align: right;\">\n      <th></th>\n      <th>Параметр</th>\n      <th>х001</th>\n      <th>х002</th>\n      <th>х003</th>\n      <th>х004</th>\n      <th>х005</th>\n      <th>х006</th>\n      <th>х007</th>\n      <th>х008</th>\n      <th>х009</th>\n      <th>...</th>\n      <th>х330</th>\n      <th>х331</th>\n      <th>х332</th>\n      <th>х333</th>\n      <th>х334</th>\n      <th>х335</th>\n      <th>х336</th>\n      <th>х337</th>\n      <th>Unnamed: 338</th>\n      <th>РЕЖИМ</th>\n    </tr>\n  </thead>\n  <tbody>\n    <tr>\n      <th>0</th>\n      <td>NaN</td>\n      <td>NaN</td>\n      <td>NaN</td>\n      <td>NaN</td>\n      <td>NaN</td>\n      <td>NaN</td>\n      <td>NaN</td>\n      <td>NaN</td>\n      <td>NaN</td>\n      <td>NaN</td>\n      <td>...</td>\n      <td>NaN</td>\n      <td>NaN</td>\n      <td>NaN</td>\n      <td>NaN</td>\n      <td>NaN</td>\n      <td>NaN</td>\n      <td>NaN</td>\n      <td>NaN</td>\n      <td>NaN</td>\n      <td>NaN</td>\n    </tr>\n    <tr>\n      <th>1</th>\n      <td>01.07.2022 0:00</td>\n      <td>2.005208</td>\n      <td>0.203984</td>\n      <td>-0.000182</td>\n      <td>0.164062</td>\n      <td>-0.001823</td>\n      <td>0.751591</td>\n      <td>2.517361</td>\n      <td>38.63533</td>\n      <td>3007.434</td>\n      <td>...</td>\n      <td>252.087900</td>\n      <td>2.343750</td>\n      <td>72.460940</td>\n      <td>38.975690</td>\n      <td>-118.5185</td>\n      <td>0.347222</td>\n      <td>98.524310</td>\n      <td>98.57639</td>\n      <td>NaN</td>\n      <td>1.0</td>\n    </tr>\n    <tr>\n      <th>2</th>\n      <td>01.07.2022 0:01</td>\n      <td>2.005208</td>\n      <td>0.202708</td>\n      <td>0.000000</td>\n      <td>0.181380</td>\n      <td>-0.008203</td>\n      <td>0.746528</td>\n      <td>2.512153</td>\n      <td>38.64738</td>\n      <td>3006.460</td>\n      <td>...</td>\n      <td>252.778400</td>\n      <td>2.365451</td>\n      <td>72.468170</td>\n      <td>39.351850</td>\n      <td>-118.5185</td>\n      <td>0.347222</td>\n      <td>98.524310</td>\n      <td>98.57639</td>\n      <td>NaN</td>\n      <td>1.0</td>\n    </tr>\n    <tr>\n      <th>3</th>\n      <td>01.07.2022 0:02</td>\n      <td>2.005208</td>\n      <td>0.196693</td>\n      <td>0.000000</td>\n      <td>0.180286</td>\n      <td>-0.002734</td>\n      <td>0.762442</td>\n      <td>2.510417</td>\n      <td>38.59549</td>\n      <td>3006.403</td>\n      <td>...</td>\n      <td>253.636400</td>\n      <td>2.329282</td>\n      <td>72.446470</td>\n      <td>41.912620</td>\n      <td>-118.5185</td>\n      <td>0.347222</td>\n      <td>98.524310</td>\n      <td>98.57639</td>\n      <td>NaN</td>\n      <td>1.0</td>\n    </tr>\n    <tr>\n      <th>4</th>\n      <td>01.07.2022 0:03</td>\n      <td>2.187500</td>\n      <td>0.200703</td>\n      <td>-0.000182</td>\n      <td>0.164062</td>\n      <td>0.005833</td>\n      <td>0.757378</td>\n      <td>2.527778</td>\n      <td>38.66441</td>\n      <td>3006.401</td>\n      <td>...</td>\n      <td>254.768700</td>\n      <td>2.336516</td>\n      <td>72.446470</td>\n      <td>41.905380</td>\n      <td>-118.5185</td>\n      <td>0.347222</td>\n      <td>98.524310</td>\n      <td>98.57639</td>\n      <td>NaN</td>\n      <td>1.0</td>\n    </tr>\n    <tr>\n      <th>...</th>\n      <td>...</td>\n      <td>...</td>\n      <td>...</td>\n      <td>...</td>\n      <td>...</td>\n      <td>...</td>\n      <td>...</td>\n      <td>...</td>\n      <td>...</td>\n      <td>...</td>\n      <td>...</td>\n      <td>...</td>\n      <td>...</td>\n      <td>...</td>\n      <td>...</td>\n      <td>...</td>\n      <td>...</td>\n      <td>...</td>\n      <td>...</td>\n      <td>...</td>\n      <td>...</td>\n    </tr>\n    <tr>\n      <th>55437</th>\n      <td>08.08.2022 11:56</td>\n      <td>1.093750</td>\n      <td>0.206719</td>\n      <td>-0.000182</td>\n      <td>0.259037</td>\n      <td>-0.008385</td>\n      <td>0.756655</td>\n      <td>5.328125</td>\n      <td>38.71061</td>\n      <td>0.000</td>\n      <td>...</td>\n      <td>2.327345</td>\n      <td>0.810185</td>\n      <td>-0.672743</td>\n      <td>-0.585938</td>\n      <td>-118.5185</td>\n      <td>-0.108507</td>\n      <td>-1.779514</td>\n      <td>95.00000</td>\n      <td>NaN</td>\n      <td>12.0</td>\n    </tr>\n    <tr>\n      <th>55438</th>\n      <td>08.08.2022 11:57</td>\n      <td>1.093750</td>\n      <td>0.207266</td>\n      <td>-0.000547</td>\n      <td>0.251563</td>\n      <td>-0.008385</td>\n      <td>0.757378</td>\n      <td>5.322917</td>\n      <td>38.65241</td>\n      <td>0.000</td>\n      <td>...</td>\n      <td>2.327345</td>\n      <td>0.846354</td>\n      <td>-0.672743</td>\n      <td>-0.593171</td>\n      <td>-118.5185</td>\n      <td>-0.094039</td>\n      <td>-1.779514</td>\n      <td>95.00000</td>\n      <td>NaN</td>\n      <td>12.0</td>\n    </tr>\n    <tr>\n      <th>55439</th>\n      <td>08.08.2022 11:58</td>\n      <td>1.093750</td>\n      <td>0.205260</td>\n      <td>0.000000</td>\n      <td>0.251380</td>\n      <td>-0.008385</td>\n      <td>0.756655</td>\n      <td>5.331597</td>\n      <td>38.65683</td>\n      <td>0.000</td>\n      <td>...</td>\n      <td>2.327345</td>\n      <td>0.853588</td>\n      <td>-0.687211</td>\n      <td>-0.585938</td>\n      <td>-118.5185</td>\n      <td>-0.108507</td>\n      <td>-1.772280</td>\n      <td>95.00000</td>\n      <td>NaN</td>\n      <td>12.0</td>\n    </tr>\n    <tr>\n      <th>55440</th>\n      <td>08.08.2022 11:59</td>\n      <td>1.093750</td>\n      <td>0.206719</td>\n      <td>-0.000182</td>\n      <td>0.246823</td>\n      <td>0.006745</td>\n      <td>0.758825</td>\n      <td>5.302083</td>\n      <td>38.60737</td>\n      <td>0.000</td>\n      <td>...</td>\n      <td>2.327345</td>\n      <td>0.795718</td>\n      <td>-0.672743</td>\n      <td>-0.585938</td>\n      <td>-118.5185</td>\n      <td>-0.108507</td>\n      <td>-1.779514</td>\n      <td>95.00000</td>\n      <td>NaN</td>\n      <td>12.0</td>\n    </tr>\n    <tr>\n      <th>55441</th>\n      <td>08.08.2022 12:00</td>\n      <td>1.093750</td>\n      <td>0.206719</td>\n      <td>-0.000182</td>\n      <td>0.246823</td>\n      <td>0.006745</td>\n      <td>0.758825</td>\n      <td>5.302083</td>\n      <td>38.60737</td>\n      <td>0.000</td>\n      <td>...</td>\n      <td>2.327345</td>\n      <td>0.795718</td>\n      <td>-0.672743</td>\n      <td>-0.585938</td>\n      <td>-118.5185</td>\n      <td>-0.108507</td>\n      <td>-1.779514</td>\n      <td>95.00000</td>\n      <td>NaN</td>\n      <td>12.0</td>\n    </tr>\n  </tbody>\n</table>\n<p>55442 rows × 340 columns</p>\n</div>"
     },
     "execution_count": 18,
     "metadata": {},
     "output_type": "execute_result"
    }
   ],
   "source": [
    "data_2"
   ],
   "metadata": {
    "collapsed": false,
    "pycharm": {
     "name": "#%%\n"
    }
   }
  },
  {
   "cell_type": "code",
   "execution_count": null,
   "outputs": [],
   "source": [],
   "metadata": {
    "collapsed": false,
    "pycharm": {
     "name": "#%%\n"
    }
   }
  },
  {
   "cell_type": "code",
   "execution_count": 11,
   "outputs": [
    {
     "data": {
      "text/plain": "((243361, 210), (55442, 340))"
     },
     "execution_count": 11,
     "metadata": {},
     "output_type": "execute_result"
    }
   ],
   "source": [
    "data_1.shape, data_2.shape"
   ],
   "metadata": {
    "collapsed": false,
    "pycharm": {
     "name": "#%%\n"
    }
   }
  },
  {
   "cell_type": "code",
   "execution_count": 16,
   "outputs": [
    {
     "data": {
      "text/plain": "1.0     66183\n17.0    16160\n15.0     6535\n13.0     2091\n2.0      1991\n7.0      1745\n22.0     1534\n5.0      1456\n19.0      953\n26.0      872\n4.0       778\n12.0      748\n11.0      734\n6.0       648\n14.0      600\n27.0      529\n8.0       511\n23.0      482\n21.0      409\n3.0       333\n20.0      321\n10.0      319\n18.0      243\n16.0      105\n24.0       26\n25.0       13\nName: РЕЖИМ, dtype: int64"
     },
     "execution_count": 16,
     "metadata": {},
     "output_type": "execute_result"
    }
   ],
   "source": [
    "data_1['РЕЖИМ'].value_counts(ascending=False)"
   ],
   "metadata": {
    "collapsed": false,
    "pycharm": {
     "name": "#%%\n"
    }
   }
  },
  {
   "cell_type": "code",
   "execution_count": 17,
   "outputs": [
    {
     "data": {
      "text/plain": "               Параметр      х001      х002      х003      х004      х005  \\\n0                   NaN       NaN       NaN       NaN       NaN       NaN   \n1       01.07.2022 0:00  2.005208  0.203984 -0.000182  0.164062 -0.001823   \n2       01.07.2022 0:01  2.005208  0.202708  0.000000  0.181380 -0.008203   \n3       01.07.2022 0:02  2.005208  0.196693  0.000000  0.180286 -0.002734   \n4       01.07.2022 0:03  2.187500  0.200703 -0.000182  0.164062  0.005833   \n...                 ...       ...       ...       ...       ...       ...   \n55437  08.08.2022 11:56  1.093750  0.206719 -0.000182  0.259037 -0.008385   \n55438  08.08.2022 11:57  1.093750  0.207266 -0.000547  0.251563 -0.008385   \n55439  08.08.2022 11:58  1.093750  0.205260  0.000000  0.251380 -0.008385   \n55440  08.08.2022 11:59  1.093750  0.206719 -0.000182  0.246823  0.006745   \n55441  08.08.2022 12:00  1.093750  0.206719 -0.000182  0.246823  0.006745   \n\n           х006      х007      х008      х009  ...        х330      х331  \\\n0           NaN       NaN       NaN       NaN  ...         NaN       NaN   \n1      0.751591  2.517361  38.63533  3007.434  ...  252.087900  2.343750   \n2      0.746528  2.512153  38.64738  3006.460  ...  252.778400  2.365451   \n3      0.762442  2.510417  38.59549  3006.403  ...  253.636400  2.329282   \n4      0.757378  2.527778  38.66441  3006.401  ...  254.768700  2.336516   \n...         ...       ...       ...       ...  ...         ...       ...   \n55437  0.756655  5.328125  38.71061     0.000  ...    2.327345  0.810185   \n55438  0.757378  5.322917  38.65241     0.000  ...    2.327345  0.846354   \n55439  0.756655  5.331597  38.65683     0.000  ...    2.327345  0.853588   \n55440  0.758825  5.302083  38.60737     0.000  ...    2.327345  0.795718   \n55441  0.758825  5.302083  38.60737     0.000  ...    2.327345  0.795718   \n\n            х332       х333      х334      х335       х336      х337  \\\n0            NaN        NaN       NaN       NaN        NaN       NaN   \n1      72.460940  38.975690 -118.5185  0.347222  98.524310  98.57639   \n2      72.468170  39.351850 -118.5185  0.347222  98.524310  98.57639   \n3      72.446470  41.912620 -118.5185  0.347222  98.524310  98.57639   \n4      72.446470  41.905380 -118.5185  0.347222  98.524310  98.57639   \n...          ...        ...       ...       ...        ...       ...   \n55437  -0.672743  -0.585938 -118.5185 -0.108507  -1.779514  95.00000   \n55438  -0.672743  -0.593171 -118.5185 -0.094039  -1.779514  95.00000   \n55439  -0.687211  -0.585938 -118.5185 -0.108507  -1.772280  95.00000   \n55440  -0.672743  -0.585938 -118.5185 -0.108507  -1.779514  95.00000   \n55441  -0.672743  -0.585938 -118.5185 -0.108507  -1.779514  95.00000   \n\n       Unnamed: 338  РЕЖИМ  \n0               NaN    NaN  \n1               NaN    1.0  \n2               NaN    1.0  \n3               NaN    1.0  \n4               NaN    1.0  \n...             ...    ...  \n55437           NaN   12.0  \n55438           NaN   12.0  \n55439           NaN   12.0  \n55440           NaN   12.0  \n55441           NaN   12.0  \n\n[55442 rows x 340 columns]",
      "text/html": "<div>\n<style scoped>\n    .dataframe tbody tr th:only-of-type {\n        vertical-align: middle;\n    }\n\n    .dataframe tbody tr th {\n        vertical-align: top;\n    }\n\n    .dataframe thead th {\n        text-align: right;\n    }\n</style>\n<table border=\"1\" class=\"dataframe\">\n  <thead>\n    <tr style=\"text-align: right;\">\n      <th></th>\n      <th>Параметр</th>\n      <th>х001</th>\n      <th>х002</th>\n      <th>х003</th>\n      <th>х004</th>\n      <th>х005</th>\n      <th>х006</th>\n      <th>х007</th>\n      <th>х008</th>\n      <th>х009</th>\n      <th>...</th>\n      <th>х330</th>\n      <th>х331</th>\n      <th>х332</th>\n      <th>х333</th>\n      <th>х334</th>\n      <th>х335</th>\n      <th>х336</th>\n      <th>х337</th>\n      <th>Unnamed: 338</th>\n      <th>РЕЖИМ</th>\n    </tr>\n  </thead>\n  <tbody>\n    <tr>\n      <th>0</th>\n      <td>NaN</td>\n      <td>NaN</td>\n      <td>NaN</td>\n      <td>NaN</td>\n      <td>NaN</td>\n      <td>NaN</td>\n      <td>NaN</td>\n      <td>NaN</td>\n      <td>NaN</td>\n      <td>NaN</td>\n      <td>...</td>\n      <td>NaN</td>\n      <td>NaN</td>\n      <td>NaN</td>\n      <td>NaN</td>\n      <td>NaN</td>\n      <td>NaN</td>\n      <td>NaN</td>\n      <td>NaN</td>\n      <td>NaN</td>\n      <td>NaN</td>\n    </tr>\n    <tr>\n      <th>1</th>\n      <td>01.07.2022 0:00</td>\n      <td>2.005208</td>\n      <td>0.203984</td>\n      <td>-0.000182</td>\n      <td>0.164062</td>\n      <td>-0.001823</td>\n      <td>0.751591</td>\n      <td>2.517361</td>\n      <td>38.63533</td>\n      <td>3007.434</td>\n      <td>...</td>\n      <td>252.087900</td>\n      <td>2.343750</td>\n      <td>72.460940</td>\n      <td>38.975690</td>\n      <td>-118.5185</td>\n      <td>0.347222</td>\n      <td>98.524310</td>\n      <td>98.57639</td>\n      <td>NaN</td>\n      <td>1.0</td>\n    </tr>\n    <tr>\n      <th>2</th>\n      <td>01.07.2022 0:01</td>\n      <td>2.005208</td>\n      <td>0.202708</td>\n      <td>0.000000</td>\n      <td>0.181380</td>\n      <td>-0.008203</td>\n      <td>0.746528</td>\n      <td>2.512153</td>\n      <td>38.64738</td>\n      <td>3006.460</td>\n      <td>...</td>\n      <td>252.778400</td>\n      <td>2.365451</td>\n      <td>72.468170</td>\n      <td>39.351850</td>\n      <td>-118.5185</td>\n      <td>0.347222</td>\n      <td>98.524310</td>\n      <td>98.57639</td>\n      <td>NaN</td>\n      <td>1.0</td>\n    </tr>\n    <tr>\n      <th>3</th>\n      <td>01.07.2022 0:02</td>\n      <td>2.005208</td>\n      <td>0.196693</td>\n      <td>0.000000</td>\n      <td>0.180286</td>\n      <td>-0.002734</td>\n      <td>0.762442</td>\n      <td>2.510417</td>\n      <td>38.59549</td>\n      <td>3006.403</td>\n      <td>...</td>\n      <td>253.636400</td>\n      <td>2.329282</td>\n      <td>72.446470</td>\n      <td>41.912620</td>\n      <td>-118.5185</td>\n      <td>0.347222</td>\n      <td>98.524310</td>\n      <td>98.57639</td>\n      <td>NaN</td>\n      <td>1.0</td>\n    </tr>\n    <tr>\n      <th>4</th>\n      <td>01.07.2022 0:03</td>\n      <td>2.187500</td>\n      <td>0.200703</td>\n      <td>-0.000182</td>\n      <td>0.164062</td>\n      <td>0.005833</td>\n      <td>0.757378</td>\n      <td>2.527778</td>\n      <td>38.66441</td>\n      <td>3006.401</td>\n      <td>...</td>\n      <td>254.768700</td>\n      <td>2.336516</td>\n      <td>72.446470</td>\n      <td>41.905380</td>\n      <td>-118.5185</td>\n      <td>0.347222</td>\n      <td>98.524310</td>\n      <td>98.57639</td>\n      <td>NaN</td>\n      <td>1.0</td>\n    </tr>\n    <tr>\n      <th>...</th>\n      <td>...</td>\n      <td>...</td>\n      <td>...</td>\n      <td>...</td>\n      <td>...</td>\n      <td>...</td>\n      <td>...</td>\n      <td>...</td>\n      <td>...</td>\n      <td>...</td>\n      <td>...</td>\n      <td>...</td>\n      <td>...</td>\n      <td>...</td>\n      <td>...</td>\n      <td>...</td>\n      <td>...</td>\n      <td>...</td>\n      <td>...</td>\n      <td>...</td>\n      <td>...</td>\n    </tr>\n    <tr>\n      <th>55437</th>\n      <td>08.08.2022 11:56</td>\n      <td>1.093750</td>\n      <td>0.206719</td>\n      <td>-0.000182</td>\n      <td>0.259037</td>\n      <td>-0.008385</td>\n      <td>0.756655</td>\n      <td>5.328125</td>\n      <td>38.71061</td>\n      <td>0.000</td>\n      <td>...</td>\n      <td>2.327345</td>\n      <td>0.810185</td>\n      <td>-0.672743</td>\n      <td>-0.585938</td>\n      <td>-118.5185</td>\n      <td>-0.108507</td>\n      <td>-1.779514</td>\n      <td>95.00000</td>\n      <td>NaN</td>\n      <td>12.0</td>\n    </tr>\n    <tr>\n      <th>55438</th>\n      <td>08.08.2022 11:57</td>\n      <td>1.093750</td>\n      <td>0.207266</td>\n      <td>-0.000547</td>\n      <td>0.251563</td>\n      <td>-0.008385</td>\n      <td>0.757378</td>\n      <td>5.322917</td>\n      <td>38.65241</td>\n      <td>0.000</td>\n      <td>...</td>\n      <td>2.327345</td>\n      <td>0.846354</td>\n      <td>-0.672743</td>\n      <td>-0.593171</td>\n      <td>-118.5185</td>\n      <td>-0.094039</td>\n      <td>-1.779514</td>\n      <td>95.00000</td>\n      <td>NaN</td>\n      <td>12.0</td>\n    </tr>\n    <tr>\n      <th>55439</th>\n      <td>08.08.2022 11:58</td>\n      <td>1.093750</td>\n      <td>0.205260</td>\n      <td>0.000000</td>\n      <td>0.251380</td>\n      <td>-0.008385</td>\n      <td>0.756655</td>\n      <td>5.331597</td>\n      <td>38.65683</td>\n      <td>0.000</td>\n      <td>...</td>\n      <td>2.327345</td>\n      <td>0.853588</td>\n      <td>-0.687211</td>\n      <td>-0.585938</td>\n      <td>-118.5185</td>\n      <td>-0.108507</td>\n      <td>-1.772280</td>\n      <td>95.00000</td>\n      <td>NaN</td>\n      <td>12.0</td>\n    </tr>\n    <tr>\n      <th>55440</th>\n      <td>08.08.2022 11:59</td>\n      <td>1.093750</td>\n      <td>0.206719</td>\n      <td>-0.000182</td>\n      <td>0.246823</td>\n      <td>0.006745</td>\n      <td>0.758825</td>\n      <td>5.302083</td>\n      <td>38.60737</td>\n      <td>0.000</td>\n      <td>...</td>\n      <td>2.327345</td>\n      <td>0.795718</td>\n      <td>-0.672743</td>\n      <td>-0.585938</td>\n      <td>-118.5185</td>\n      <td>-0.108507</td>\n      <td>-1.779514</td>\n      <td>95.00000</td>\n      <td>NaN</td>\n      <td>12.0</td>\n    </tr>\n    <tr>\n      <th>55441</th>\n      <td>08.08.2022 12:00</td>\n      <td>1.093750</td>\n      <td>0.206719</td>\n      <td>-0.000182</td>\n      <td>0.246823</td>\n      <td>0.006745</td>\n      <td>0.758825</td>\n      <td>5.302083</td>\n      <td>38.60737</td>\n      <td>0.000</td>\n      <td>...</td>\n      <td>2.327345</td>\n      <td>0.795718</td>\n      <td>-0.672743</td>\n      <td>-0.585938</td>\n      <td>-118.5185</td>\n      <td>-0.108507</td>\n      <td>-1.779514</td>\n      <td>95.00000</td>\n      <td>NaN</td>\n      <td>12.0</td>\n    </tr>\n  </tbody>\n</table>\n<p>55442 rows × 340 columns</p>\n</div>"
     },
     "execution_count": 17,
     "metadata": {},
     "output_type": "execute_result"
    }
   ],
   "source": [
    "data_2"
   ],
   "metadata": {
    "collapsed": false,
    "pycharm": {
     "name": "#%%\n"
    }
   }
  },
  {
   "cell_type": "code",
   "execution_count": null,
   "outputs": [],
   "source": [],
   "metadata": {
    "collapsed": false,
    "pycharm": {
     "name": "#%%\n"
    }
   }
  }
 ],
 "metadata": {
  "kernelspec": {
   "display_name": "Python 3",
   "language": "python",
   "name": "python3"
  },
  "language_info": {
   "codemirror_mode": {
    "name": "ipython",
    "version": 2
   },
   "file_extension": ".py",
   "mimetype": "text/x-python",
   "name": "python",
   "nbconvert_exporter": "python",
   "pygments_lexer": "ipython2",
   "version": "2.7.6"
  }
 },
 "nbformat": 4,
 "nbformat_minor": 0
}